# An illustrated introduction to t-SNE

Hello world!

<pre data-code-language="python"
     data-executable="true"
     data-type="programlisting">
import numpy as np
import sklearn
import matplotlib.pyplot as plt
%matplotlib inline
</pre>
